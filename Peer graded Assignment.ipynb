{
    "cells": [
        {
            "metadata": {
                "collapsed": true
            },
            "cell_type": "markdown",
            "source": "<h1>My Jupyter Notebook on IBM Watson Studio<h1/>"
        },
        {
            "metadata": {},
            "cell_type": "markdown",
            "source": "<b>Seunghoon</b>\n<p>Student</p>"
        },
        {
            "metadata": {},
            "cell_type": "markdown",
            "source": "<i>I am interested in data science because I am interested in the application of machine learning in the financial markets<i/>"
        },
        {
            "metadata": {},
            "cell_type": "markdown",
            "source": "<h3>The Following code will add two numbers, 1 and 2<h3/>"
        },
        {
            "metadata": {},
            "cell_type": "code",
            "source": "1+2",
            "execution_count": 2,
            "outputs": [
                {
                    "output_type": "execute_result",
                    "execution_count": 2,
                    "data": {
                        "text/plain": "3"
                    },
                    "metadata": {}
                }
            ]
        },
        {
            "metadata": {},
            "cell_type": "markdown",
            "source": "<ol>\n    <li>Bangkok Prep</li>\n    <li>Chulalongkorn Univesity</li>\n    </ol>\n<ul>\n    <li>Steak</li>\n    <li>Ramen</li>\n    </ul>\n<a>coursera.org</a>\n  "
        },
        {
            "metadata": {},
            "cell_type": "code",
            "source": "",
            "execution_count": null,
            "outputs": []
        }
    ],
    "metadata": {
        "kernelspec": {
            "name": "python3",
            "display_name": "Python 3.9",
            "language": "python"
        },
        "language_info": {
            "name": "python",
            "version": "3.9.7",
            "mimetype": "text/x-python",
            "codemirror_mode": {
                "name": "ipython",
                "version": 3
            },
            "pygments_lexer": "ipython3",
            "nbconvert_exporter": "python",
            "file_extension": ".py"
        }
    },
    "nbformat": 4,
    "nbformat_minor": 1
}