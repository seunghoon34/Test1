{
    "cells": [
        {
            "cell_type": "markdown",
            "metadata": {},
            "source": "<h1> Description </h1>"
        },
        {
            "cell_type": "code",
            "execution_count": 1,
            "metadata": {},
            "outputs": [
                {
                    "data": {
                        "text/html": "<div>\n<style scoped>\n    .dataframe tbody tr th:only-of-type {\n        vertical-align: middle;\n    }\n\n    .dataframe tbody tr th {\n        vertical-align: top;\n    }\n\n    .dataframe thead th {\n        text-align: right;\n    }\n</style>\n<table border=\"1\" class=\"dataframe\">\n  <thead>\n    <tr style=\"text-align: right;\">\n      <th></th>\n      <th>Date</th>\n      <th>Open</th>\n      <th>High</th>\n      <th>Low</th>\n      <th>Close</th>\n      <th>Volume</th>\n    </tr>\n  </thead>\n  <tbody>\n    <tr>\n      <th>0</th>\n      <td>2018-04-12 10:00</td>\n      <td>1.23343</td>\n      <td>1.23355</td>\n      <td>1.23284</td>\n      <td>1.23331</td>\n      <td>3629</td>\n    </tr>\n    <tr>\n      <th>1</th>\n      <td>2018-04-12 10:15</td>\n      <td>1.23332</td>\n      <td>1.23395</td>\n      <td>1.23306</td>\n      <td>1.23347</td>\n      <td>4053</td>\n    </tr>\n    <tr>\n      <th>2</th>\n      <td>2018-04-12 10:30</td>\n      <td>1.23346</td>\n      <td>1.23355</td>\n      <td>1.23296</td>\n      <td>1.23328</td>\n      <td>3216</td>\n    </tr>\n    <tr>\n      <th>3</th>\n      <td>2018-04-12 10:45</td>\n      <td>1.23328</td>\n      <td>1.23361</td>\n      <td>1.23320</td>\n      <td>1.23331</td>\n      <td>2176</td>\n    </tr>\n    <tr>\n      <th>4</th>\n      <td>2018-04-12 11:00</td>\n      <td>1.23331</td>\n      <td>1.23331</td>\n      <td>1.23281</td>\n      <td>1.23292</td>\n      <td>2071</td>\n    </tr>\n  </tbody>\n</table>\n</div>",
                        "text/plain": "               Date     Open     High      Low    Close  Volume\n0  2018-04-12 10:00  1.23343  1.23355  1.23284  1.23331    3629\n1  2018-04-12 10:15  1.23332  1.23395  1.23306  1.23347    4053\n2  2018-04-12 10:30  1.23346  1.23355  1.23296  1.23328    3216\n3  2018-04-12 10:45  1.23328  1.23361  1.23320  1.23331    2176\n4  2018-04-12 11:00  1.23331  1.23331  1.23281  1.23292    2071"
                    },
                    "execution_count": 1,
                    "metadata": {},
                    "output_type": "execute_result"
                }
            ],
            "source": "# The code was removed by Watson Studio for sharing."
        },
        {
            "cell_type": "code",
            "execution_count": null,
            "metadata": {},
            "outputs": [],
            "source": ""
        }
    ],
    "metadata": {
        "kernelspec": {
            "display_name": "Python 3.9",
            "language": "python",
            "name": "python3"
        },
        "language_info": {
            "codemirror_mode": {
                "name": "ipython",
                "version": 3
            },
            "file_extension": ".py",
            "mimetype": "text/x-python",
            "name": "python",
            "nbconvert_exporter": "python",
            "pygments_lexer": "ipython3",
            "version": "3.9.7"
        }
    },
    "nbformat": 4,
    "nbformat_minor": 1
}